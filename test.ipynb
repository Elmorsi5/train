{
 "cells": [
  {
   "cell_type": "code",
   "execution_count": 18,
   "metadata": {},
   "outputs": [
    {
     "name": "stdout",
     "output_type": "stream",
     "text": [
      "[True, True, False]\n",
      "[('ali', 19, 2500), ('hassan', 20, 3000)]\n"
     ]
    }
   ],
   "source": [
    "person = [\n",
    "    (\"ali\",19,2500),\n",
    "    (\"hassan\",20,3000),\n",
    "    (\"ahmed\",5,10000)\n",
    "]\n",
    "\n",
    "\n",
    "salary = list(map(lambda person:person[1]>10,person)) # return the boolean result\n",
    "print(salary)\n",
    "salary = list(filter(lambda person:person[1]>10,person)) # return the whole item\n",
    "print(salary)\n"
   ]
  }
 ],
 "metadata": {
  "kernelspec": {
   "display_name": ".venv",
   "language": "python",
   "name": "python3"
  },
  "language_info": {
   "codemirror_mode": {
    "name": "ipython",
    "version": 3
   },
   "file_extension": ".py",
   "mimetype": "text/x-python",
   "name": "python",
   "nbconvert_exporter": "python",
   "pygments_lexer": "ipython3",
   "version": "3.10.12"
  },
  "orig_nbformat": 4
 },
 "nbformat": 4,
 "nbformat_minor": 2
}
